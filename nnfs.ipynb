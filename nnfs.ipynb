{
 "cells": [
  {
   "cell_type": "code",
   "execution_count": 44,
   "metadata": {},
   "outputs": [],
   "source": [
    "#All imports\n",
    "import numpy as np\n",
    "from mpl_toolkits.mplot3d import Axes3D\n",
    "import matplotlib.pyplot as plt\n",
    "import collections\n",
    "from tqdm.auto import tqdm\n",
    "import torchvision.datasets as datasets\n",
    "import matplotlib.pyplot as plt\n"
   ]
  },
  {
   "cell_type": "code",
   "execution_count": 31,
   "metadata": {},
   "outputs": [
    {
     "name": "stdout",
     "output_type": "stream",
     "text": [
      "Training data (60000, 28, 28)\n",
      "Training labels (60000,)\n",
      "Testing data (10000, 28, 28)\n",
      "Testing labels (10000,)\n"
     ]
    }
   ],
   "source": [
    "mnist_trainset = datasets.MNIST(root='./data', train=True, download=True, transform=None)\n",
    "mnist_testset = datasets.MNIST(root='./data', train=False, download=True, transform=None)\n",
    "\n",
    "#Training data\n",
    "mnist_traindata = mnist_trainset.data.numpy()\n",
    "mnist_trainlabel = mnist_trainset.targets.numpy()\n",
    "print(\"Training data\",mnist_traindata.shape)\n",
    "print(\"Training labels\",mnist_trainlabel.shape)\n",
    "\n",
    "#Testing data\n",
    "mnist_testdata = mnist_testset.data.numpy()\n",
    "mnist_testlabel = mnist_testset.targets.numpy()\n",
    "print(\"Testing data\",mnist_testdata.shape)\n",
    "print(\"Testing labels\",mnist_testlabel.shape)"
   ]
  },
  {
   "cell_type": "code",
   "execution_count": 32,
   "metadata": {},
   "outputs": [
    {
     "name": "stdout",
     "output_type": "stream",
     "text": [
      "Training data (60000, 28, 28)\n",
      "Training labels (60000, 10)\n",
      "Testing data (10000, 28, 28)\n",
      "Testing labels (10000, 10)\n"
     ]
    }
   ],
   "source": [
    "##################################################\n",
    "import torchvision.datasets as datasets\n",
    "mnist_trainset = datasets.MNIST(root='./data', train=True, download=False, transform=None)\n",
    "mnist_testset = datasets.MNIST(root='./data', train=False, download=False, transform=None)\n",
    "\n",
    "\n",
    "# one hot encoding\n",
    "def one_hot_encode(labels, num_classes):\n",
    "    one_hot_labels = np.zeros((labels.size, num_classes))\n",
    "    one_hot_labels[np.arange(labels.size), labels] = 1\n",
    "    return one_hot_labels\n",
    "\n",
    "#Training data\n",
    "mnist_traindata = mnist_trainset.data.numpy()\n",
    "mnist_trainlabel = mnist_trainset.targets.numpy()\n",
    "\n",
    "mnist_trainlabel = one_hot_encode(mnist_trainlabel, 10)\n",
    "\n",
    "print(\"Training data\",mnist_traindata.shape)\n",
    "print(\"Training labels\",mnist_trainlabel.shape)\n",
    "\n",
    "#Testing data\n",
    "mnist_testdata = mnist_testset.data.numpy()\n",
    "mnist_testlabel = mnist_testset.targets.numpy()\n",
    "\n",
    "mnist_testlabel = one_hot_encode(mnist_testlabel, 10)\n",
    "\n",
    "print(\"Testing data\",mnist_testdata.shape)\n",
    "print(\"Testing labels\",mnist_testlabel.shape)"
   ]
  },
  {
   "cell_type": "code",
   "execution_count": 33,
   "metadata": {},
   "outputs": [
    {
     "data": {
      "text/plain": [
       "5"
      ]
     },
     "execution_count": 33,
     "metadata": {},
     "output_type": "execute_result"
    },
    {
     "data": {
      "image/png": "[encoded data removed]",
      "text/plain": [
       "<Figure size 480x480 with 1 Axes>"
      ]
     },
     "metadata": {},
     "output_type": "display_data"
    }
   ],
   "source": [
    "i = 0\n",
    "plt.matshow(mnist_traindata[i], cmap='gray')\n",
    "np.argmax(mnist_trainlabel[i])"
   ]
  },
  {
   "cell_type": "markdown",
   "metadata": {},
   "source": [
    "#### Activation Functions"
   ]
  },
  {
   "cell_type": "code",
   "execution_count": 34,
   "metadata": {},
   "outputs": [],
   "source": [
    "def ReLu(inp):\n",
    "  outp = np.maximum(0, inp)\n",
    "  return outp\n",
    "\n",
    "def gradReLu(inp):\n",
    "  outp = (inp > 0).astype(float)\n",
    "  return outp\n",
    "\n",
    "def sigmoid(inp):\n",
    "    inp = np.clip(inp, -500, 500) # for numerical stability\n",
    "    return 1 / (1 + np.exp(-inp))\n",
    "\n",
    "def gradSigmoid(inp):\n",
    "    sig = sigmoid(inp)\n",
    "    return sig * (1 - sig)\n",
    "\n",
    "def tanh(inp):\n",
    "    return np.tanh(inp)\n",
    "\n",
    "def gradTanh(inp):\n",
    "    tanh_val = np.tanh(inp)\n",
    "    return 1 - tanh_val ** 2\n",
    "\n",
    "def LeakyReLu(inp, alpha=0.01):\n",
    "    return np.where(inp > 0, inp, alpha * inp)\n",
    "\n",
    "def gradLeakyReLu(inp, alpha=0.01):\n",
    "    return np.where(inp > 0, 1, alpha)\n",
    "\n",
    "def softmax(inp):\n",
    "  exp_inp = np.exp(inp - np.max(inp, axis=1, keepdims=True))  # for numerical stability\n",
    "  outp = exp_inp / np.sum(exp_inp, axis=1, keepdims=True)\n",
    "  return outp"
   ]
  },
  {
   "cell_type": "code",
   "execution_count": 35,
   "metadata": {},
   "outputs": [],
   "source": [
    "def fwdPropagate(X, weights, psi=ReLu):\n",
    "    W1, W2, W3, b1, b2, b3 = weights\n",
    "\n",
    "    A1 = X @ W1 + b1\n",
    "    Z1 = psi(A1)\n",
    "\n",
    "    A2 = Z1 @ W2 + b2\n",
    "    Z2 = psi(A2)\n",
    "\n",
    "    A3 = Z2 @ W3 + b3\n",
    "    Z3 = softmax(A3)  \n",
    "    \n",
    "    return [Z1, Z2, Z3, A1, A2, A3]\n",
    "\n",
    "def applyGradients(weights, gradients, learning_rate):\n",
    "  W1, W2, W3, b1, b2, b3 = weights\n",
    "  \n",
    "  dW1, dW2, dW3, db1, db2, db3 = gradients\n",
    "\n",
    "  W1 -= learning_rate * dW1\n",
    "  W2 -= learning_rate * dW2\n",
    "  W3 -= learning_rate * dW3\n",
    "\n",
    "  b1 -= learning_rate * db1\n",
    "  b2 -= learning_rate * db2\n",
    "  b3 -= learning_rate * db3\n",
    "\n",
    "  return [W1, W2, W3, b1, b2, b3]\n",
    "\n",
    "def computeGradients(X, T, weights , activations, psi_prime):\n",
    "    W1, W2, W3, b1, b2, b3 = weights\n",
    "    Z1, Z2, Z3, A1, A2, A3 = activations\n",
    "\n",
    "    E3 = (Z3 - T)\n",
    "    dW3 = (Z2.T @ E3)\n",
    "\n",
    "    E2 = (E3 @ W3.T) * psi_prime(A2)\n",
    "    dW2 = (Z1.T @ E2)\n",
    "\n",
    "    E1 = (E2 @ W2.T) * psi_prime(A1)\n",
    "    dW1 = (X.T @ E1)\n",
    "\n",
    "    db1 = np.sum(E1, axis=0)\n",
    "    db2 = np.sum(E2, axis=0)\n",
    "    db3 = np.sum(E3, axis=0)\n",
    "\n",
    "    return [dW1, dW2, dW3, db1, db2, db3]\n",
    "\n",
    "def backPropagate(X, T, weights, activations, learning_rate, activation_prime=gradReLu):\n",
    "  gradients = computeGradients(X, T, weights, activations, activation_prime)\n",
    "\n",
    "  weights = applyGradients(weights, gradients, learning_rate)\n",
    "\n",
    "  return weights\n",
    "\n",
    "def computeAccuracy(predictions, labels):\n",
    "  correct_predictions = np.sum(np.argmax(predictions, axis=1) == np.argmax(labels, axis=1))\n",
    "  accuracy = correct_predictions / labels.shape[0]\n",
    "  return accuracy\n",
    "\n",
    "# cross entropy loss\n",
    "def computeLoss(predictions, labels):\n",
    "  loss = -np.sum(labels * np.log(np.clip(predictions, 1e-10, 1.0))) / labels.shape[0]\n",
    "  return loss"
   ]
  },
  {
   "cell_type": "code",
   "execution_count": 45,
   "metadata": {},
   "outputs": [],
   "source": [
    "def training(train_data, train_targets, test_data, test_targets , batch_size = 128, epochs=1, train_val_split=0.8, learning_rate=0.001, activation=ReLu, acitvation_prime=gradReLu, verbose=True):\n",
    "    train_losses = []\n",
    "    val_losses = []\n",
    "    test_accuracy = 0\n",
    "    \n",
    "    n_samples = train_data.shape[0]\n",
    "    n_batches = n_samples // batch_size\n",
    "\n",
    "    n_train = int(n_samples * train_val_split)\n",
    "\n",
    "    indices = np.random.permutation(n_samples)\n",
    "\n",
    "    train_indices = indices[:n_train]\n",
    "    val_indices = indices[n_train:]\n",
    "\n",
    "    X_train = train_data[train_indices]\n",
    "    X_train = X_train.reshape(-1, 28 * 28)\n",
    "\n",
    "    y_train = train_targets[train_indices]\n",
    "\n",
    "    X_val = train_data[val_indices]\n",
    "    y_val = train_targets[val_indices]\n",
    "    X_val = X_val.reshape(-1, 28 * 28)\n",
    "\n",
    "    #Initialize the weights\n",
    "    in_dim = (28 * 28)\n",
    "    hidden = 512\n",
    "    n_classes = 10\n",
    "\n",
    "    W1 = np.random.randn(in_dim, hidden)     * np.sqrt(2.0 / in_dim)\n",
    "    W2 = np.random.randn(hidden, hidden)     * np.sqrt(2.0 / hidden)\n",
    "    W3 = np.random.randn(hidden, n_classes)  * np.sqrt(2.0 / hidden)\n",
    "\n",
    "    b1 = np.random.randn(hidden) * np.sqrt(2.0 / in_dim)\n",
    "    b2 = np.random.randn(hidden) * np.sqrt(2.0 / hidden)\n",
    "    b3 = np.random.randn(n_classes) * np.sqrt(2.0 / hidden)\n",
    "\n",
    "\n",
    "    weights = [W1, W2, W3, b1, b2, b3]\n",
    "\n",
    "    for epoch in tqdm(range(epochs)):\n",
    "        indices = np.random.permutation(n_train)\n",
    "        for b in range(n_batches):\n",
    "            batch_indices = indices[b*batch_size:(b+1)*batch_size]\n",
    "\n",
    "            X = X_train[batch_indices]\n",
    "            T = y_train[batch_indices]\n",
    "\n",
    "            # Forward propagation\n",
    "            activations = fwdPropagate(X, weights, activation)\n",
    "\n",
    "            # Backward propagation\n",
    "            weights = backPropagate(X, T, weights, activations, learning_rate, acitvation_prime)\n",
    "\n",
    "        outputs = fwdPropagate(X_train, weights)\n",
    "        y_pred = np.array(outputs[2])\n",
    "        \n",
    "        #Compute training accuracy, and training error\n",
    "        train_loss = computeLoss(y_pred, y_train)\n",
    "\n",
    "        train_losses.append(train_loss)\n",
    "\n",
    "        #Compute validation accuracy, and validation error\n",
    "        outputs = fwdPropagate(X_val, weights)\n",
    "        y_pred = np.array(outputs[2])\n",
    "\n",
    "        val_loss = computeLoss(y_pred, y_val)\n",
    "        val_losses.append(val_loss)\n",
    "\n",
    "        val_accuracy = computeAccuracy(y_pred, y_val)\n",
    "\n",
    "        #Print the statistics of training, i.e., training error, training accuracy, validation error, and validation accuracy\n",
    "        if(verbose):\n",
    "            print(\"Epoch\", epoch + 1, \":------------------------------------------------------------------------\")\n",
    "            # print(\"Training loss\", batch_loss)\n",
    "            print(\"Validation loss\", val_loss)\n",
    "            # print(\"Training accuracy\", train_accuracy)\n",
    "            print(\"Validation accuracy\", val_accuracy)\n",
    "\n",
    "    #Compute the test accuracy, and test error\n",
    "    X_test = test_data\n",
    "    X_test = X_test.reshape(-1, 28 * 28)\n",
    "\n",
    "    y_test = test_targets\n",
    "    y_test_pred = fwdPropagate(X_test, weights)\n",
    "    y_test_pred = np.array(y_test_pred[2])\n",
    "\n",
    "    test_loss = computeLoss(y_test_pred, y_test)\n",
    "    test_accuracy = computeAccuracy(y_test_pred, y_test)\n",
    "\n",
    "    if verbose:\n",
    "        print(\"Test loss\", test_loss)\n",
    "        print(\"Test accuracy\", test_accuracy)\n",
    "    \n",
    "\n",
    "    #Save the parameters of network\n",
    "    np.savez(\"weights.npz\", W1=weights[0], W2=weights[1], W3=weights[2])\n",
    "\n",
    "    return train_losses, val_losses, test_accuracy"
   ]
  },
  {
   "cell_type": "code",
   "execution_count": 46,
   "metadata": {},
   "outputs": [
    {
     "name": "stderr",
     "output_type": "stream",
     "text": [
      "  7%|▋         | 1/15 [00:05<01:14,  5.30s/it]"
     ]
    },
    {
     "name": "stdout",
     "output_type": "stream",
     "text": [
      "Epoch 1 :------------------------------------------------------------------------\n",
      "Validation loss 2.2983098280328984\n",
      "Validation accuracy 0.8698333333333333\n"
     ]
    },
    {
     "name": "stderr",
     "output_type": "stream",
     "text": [
      " 13%|█▎        | 2/15 [00:09<01:03,  4.86s/it]"
     ]
    },
    {
     "name": "stdout",
     "output_type": "stream",
     "text": [
      "Epoch 2 :------------------------------------------------------------------------\n",
      "Validation loss 1.8121778941745097\n",
      "Validation accuracy 0.8941666666666667\n"
     ]
    },
    {
     "name": "stderr",
     "output_type": "stream",
     "text": [
      " 20%|██        | 3/15 [00:15<01:00,  5.01s/it]"
     ]
    },
    {
     "name": "stdout",
     "output_type": "stream",
     "text": [
      "Epoch 3 :------------------------------------------------------------------------\n",
      "Validation loss 1.606947636618406\n",
      "Validation accuracy 0.9025\n"
     ]
    },
    {
     "name": "stderr",
     "output_type": "stream",
     "text": [
      " 27%|██▋       | 4/15 [00:19<00:52,  4.78s/it]"
     ]
    },
    {
     "name": "stdout",
     "output_type": "stream",
     "text": [
      "Epoch 4 :------------------------------------------------------------------------\n",
      "Validation loss 1.5143954136022924\n",
      "Validation accuracy 0.9063333333333333\n"
     ]
    },
    {
     "name": "stderr",
     "output_type": "stream",
     "text": [
      " 33%|███▎      | 5/15 [00:24<00:49,  4.95s/it]"
     ]
    },
    {
     "name": "stdout",
     "output_type": "stream",
     "text": [
      "Epoch 5 :------------------------------------------------------------------------\n",
      "Validation loss 1.3315089515033491\n",
      "Validation accuracy 0.91625\n"
     ]
    },
    {
     "name": "stderr",
     "output_type": "stream",
     "text": [
      " 40%|████      | 6/15 [00:29<00:44,  5.00s/it]"
     ]
    },
    {
     "name": "stdout",
     "output_type": "stream",
     "text": [
      "Epoch 6 :------------------------------------------------------------------------\n",
      "Validation loss 1.3113746780424402\n",
      "Validation accuracy 0.91425\n"
     ]
    },
    {
     "name": "stderr",
     "output_type": "stream",
     "text": [
      " 47%|████▋     | 7/15 [00:35<00:42,  5.33s/it]"
     ]
    },
    {
     "name": "stdout",
     "output_type": "stream",
     "text": [
      "Epoch 7 :------------------------------------------------------------------------\n",
      "Validation loss 1.256624101934066\n",
      "Validation accuracy 0.9208333333333333\n"
     ]
    },
    {
     "name": "stderr",
     "output_type": "stream",
     "text": [
      " 53%|█████▎    | 8/15 [00:40<00:36,  5.17s/it]"
     ]
    },
    {
     "name": "stdout",
     "output_type": "stream",
     "text": [
      "Epoch 8 :------------------------------------------------------------------------\n",
      "Validation loss 1.1998730839770353\n",
      "Validation accuracy 0.9225833333333333\n"
     ]
    },
    {
     "name": "stderr",
     "output_type": "stream",
     "text": [
      " 60%|██████    | 9/15 [00:45<00:30,  5.16s/it]"
     ]
    },
    {
     "name": "stdout",
     "output_type": "stream",
     "text": [
      "Epoch 9 :------------------------------------------------------------------------\n",
      "Validation loss 1.2004269763625244\n",
      "Validation accuracy 0.921\n"
     ]
    },
    {
     "name": "stderr",
     "output_type": "stream",
     "text": [
      " 67%|██████▋   | 10/15 [00:51<00:26,  5.30s/it]"
     ]
    },
    {
     "name": "stdout",
     "output_type": "stream",
     "text": [
      "Epoch 10 :------------------------------------------------------------------------\n",
      "Validation loss 1.1560709360797057\n",
      "Validation accuracy 0.9249166666666667\n"
     ]
    },
    {
     "name": "stderr",
     "output_type": "stream",
     "text": [
      " 73%|███████▎  | 11/15 [00:56<00:21,  5.31s/it]"
     ]
    },
    {
     "name": "stdout",
     "output_type": "stream",
     "text": [
      "Epoch 11 :------------------------------------------------------------------------\n",
      "Validation loss 1.1307242298965108\n",
      "Validation accuracy 0.9265833333333333\n"
     ]
    },
    {
     "name": "stderr",
     "output_type": "stream",
     "text": [
      " 80%|████████  | 12/15 [00:59<00:13,  4.46s/it]"
     ]
    },
    {
     "name": "stdout",
     "output_type": "stream",
     "text": [
      "Epoch 12 :------------------------------------------------------------------------\n",
      "Validation loss 1.1347190533567055\n",
      "Validation accuracy 0.9233333333333333\n"
     ]
    },
    {
     "name": "stderr",
     "output_type": "stream",
     "text": [
      " 87%|████████▋ | 13/15 [01:02<00:07,  3.94s/it]"
     ]
    },
    {
     "name": "stdout",
     "output_type": "stream",
     "text": [
      "Epoch 13 :------------------------------------------------------------------------\n",
      "Validation loss 1.0897630112682815\n",
      "Validation accuracy 0.92825\n"
     ]
    },
    {
     "name": "stderr",
     "output_type": "stream",
     "text": [
      " 93%|█████████▎| 14/15 [01:06<00:04,  4.15s/it]"
     ]
    },
    {
     "name": "stdout",
     "output_type": "stream",
     "text": [
      "Epoch 14 :------------------------------------------------------------------------\n",
      "Validation loss 1.0936279446315076\n",
      "Validation accuracy 0.9270833333333334\n"
     ]
    },
    {
     "name": "stderr",
     "output_type": "stream",
     "text": [
      "100%|██████████| 15/15 [01:12<00:00,  4.86s/it]"
     ]
    },
    {
     "name": "stdout",
     "output_type": "stream",
     "text": [
      "Epoch 15 :------------------------------------------------------------------------\n",
      "Validation loss 1.0656323908735108\n",
      "Validation accuracy 0.9275\n",
      "Test loss 0.9616332828067716\n",
      "Test accuracy 0.9359\n"
     ]
    },
    {
     "name": "stderr",
     "output_type": "stream",
     "text": [
      "\n"
     ]
    }
   ],
   "source": [
    "train_losses, val_losses, test_accuracy = training(mnist_traindata, mnist_trainlabel, mnist_testdata, mnist_testlabel ,batch_size=120, epochs=15, train_val_split=0.8, learning_rate=1e-6)"
   ]
  },
  {
   "cell_type": "code",
   "execution_count": 47,
   "metadata": {},
   "outputs": [
    {
     "data": {
      "image/png": "[encoded data removed]",
      "text/plain": [
       "<Figure size 1000x500 with 1 Axes>"
      ]
     },
     "metadata": {},
     "output_type": "display_data"
    }
   ],
   "source": [
    "def plot_losses(train_losses, val_losses):\n",
    "    plt.figure(figsize=(10, 5))\n",
    "    plt.plot(train_losses, label='Training Loss')\n",
    "    plt.plot(val_losses, label='Validation Loss')\n",
    "    plt.xlabel('Epochs')\n",
    "    plt.ylabel('Loss')\n",
    "    plt.title('Training and Validation Loss')\n",
    "    plt.legend()\n",
    "    plt.show()\n",
    "\n",
    "plot_losses(train_losses, val_losses)"
   ]
  }
 ],
 "metadata": {
  "kernelspec": {
   "display_name": "tf",
   "language": "python",
   "name": "python3"
  },
  "language_info": {
   "codemirror_mode": {
    "name": "ipython",
    "version": 3
   },
   "file_extension": ".py",
   "mimetype": "text/x-python",
   "name": "python",
   "nbconvert_exporter": "python",
   "pygments_lexer": "ipython3",
   "version": "3.9.21"
  }
 },
 "nbformat": 4,
 "nbformat_minor": 2
}
